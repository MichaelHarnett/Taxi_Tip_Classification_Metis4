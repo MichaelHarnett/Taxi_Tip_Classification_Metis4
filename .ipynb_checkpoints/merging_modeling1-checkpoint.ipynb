{
 "cells": [
  {
   "cell_type": "code",
   "execution_count": 1,
   "metadata": {},
   "outputs": [],
   "source": [
    "import pandas as pd\n",
    "import numpy as np\n",
    "from sklearn.linear_model import LogisticRegression\n",
    "from sklearn.model_selection import train_test_split\n",
    "from sklearn.metrics import precision_score, recall_score, accuracy_score, roc_auc_score\n",
    "from sklearn.metrics import confusion_matrix\n",
    "from sklearn.preprocessing import StandardScaler\n",
    "\n",
    "import matplotlib.pyplot as plt\n",
    "import seaborn as sns\n",
    "\n",
    "plt.style.use('ggplot')\n",
    "%matplotlib inline\n",
    "np.set_printoptions(suppress=True) # Suppress scientific notation where possible"
   ]
  },
  {
   "cell_type": "code",
   "execution_count": 17,
   "metadata": {},
   "outputs": [],
   "source": [
    "yellowdf = pd.read_csv('data/yellow1.csv')"
   ]
  },
  {
   "cell_type": "code",
   "execution_count": 3,
   "metadata": {},
   "outputs": [
    {
     "data": {
      "text/plain": [
       "credit       5485999\n",
       "no charge      33186\n",
       "Dispute        11164\n",
       "Name: payment_type, dtype: int64"
      ]
     },
     "execution_count": 3,
     "metadata": {},
     "output_type": "execute_result"
    }
   ],
   "source": [
    "yellowdf.payment_type.value_counts()"
   ]
  },
  {
   "cell_type": "code",
   "execution_count": 18,
   "metadata": {},
   "outputs": [],
   "source": [
    "greendf = pd.read_csv('data/green1.csv')"
   ]
  },
  {
   "cell_type": "code",
   "execution_count": 5,
   "metadata": {},
   "outputs": [
    {
     "name": "stdout",
     "output_type": "stream",
     "text": [
      "<class 'pandas.core.frame.DataFrame'>\n",
      "RangeIndex: 5530349 entries, 0 to 5530348\n",
      "Data columns (total 24 columns):\n",
      " #   Column                 Dtype  \n",
      "---  ------                 -----  \n",
      " 0   tip                    int64  \n",
      " 1   car_type               object \n",
      " 2   pickup_datetime        object \n",
      " 3   dropoff_datetime       object \n",
      " 4   passenger_count        int64  \n",
      " 5   trip_distance          float64\n",
      " 6   ratecodeid             object \n",
      " 7   pickup_location_id     int64  \n",
      " 8   dropoff_location_id    int64  \n",
      " 9   payment_type           object \n",
      " 10  fare_amount            float64\n",
      " 11  extra                  float64\n",
      " 12  mta_tax                float64\n",
      " 13  tolls_amount           float64\n",
      " 14  improvement_surcharge  float64\n",
      " 15  total_amount           float64\n",
      " 16  week_of_month          int64  \n",
      " 17  pickup_hour            int64  \n",
      " 18  dropoff_hour           int64  \n",
      " 19  day                    object \n",
      " 20  pickup_borough         object \n",
      " 21  pickup_zone            object \n",
      " 22  dropoff_borough        object \n",
      " 23  dropoff_zone           object \n",
      "dtypes: float64(7), int64(7), object(10)\n",
      "memory usage: 1012.6+ MB\n"
     ]
    }
   ],
   "source": [
    "yellowdf.info()"
   ]
  },
  {
   "cell_type": "code",
   "execution_count": 6,
   "metadata": {},
   "outputs": [
    {
     "name": "stdout",
     "output_type": "stream",
     "text": [
      "<class 'pandas.core.frame.DataFrame'>\n",
      "RangeIndex: 393050 entries, 0 to 393049\n",
      "Data columns (total 24 columns):\n",
      " #   Column                 Non-Null Count   Dtype  \n",
      "---  ------                 --------------   -----  \n",
      " 0   tip                    393050 non-null  int64  \n",
      " 1   car_type               393050 non-null  object \n",
      " 2   pickup_datetime        393050 non-null  object \n",
      " 3   dropoff_datetime       393050 non-null  object \n",
      " 4   ratecodeid             393050 non-null  object \n",
      " 5   pickup_location_id     393050 non-null  int64  \n",
      " 6   dropoff_location_id    393050 non-null  int64  \n",
      " 7   passenger_count        393050 non-null  int64  \n",
      " 8   trip_distance          393050 non-null  float64\n",
      " 9   fare_amount            393050 non-null  float64\n",
      " 10  extra                  393050 non-null  float64\n",
      " 11  mta_tax                393050 non-null  float64\n",
      " 12  tolls_amount           393050 non-null  float64\n",
      " 13  improvement_surcharge  393050 non-null  float64\n",
      " 14  total_amount           393050 non-null  float64\n",
      " 15  payment_type           393050 non-null  object \n",
      " 16  week_of_month          393050 non-null  int64  \n",
      " 17  pickup_hour            393050 non-null  int64  \n",
      " 18  dropoff_hour           393050 non-null  int64  \n",
      " 19  day                    393050 non-null  object \n",
      " 20  pickup_borough         393050 non-null  object \n",
      " 21  pickup_zone            392924 non-null  object \n",
      " 22  dropoff_borough        393050 non-null  object \n",
      " 23  dropoff_zone           392438 non-null  object \n",
      "dtypes: float64(7), int64(7), object(10)\n",
      "memory usage: 72.0+ MB\n"
     ]
    }
   ],
   "source": [
    "greendf.info()"
   ]
  },
  {
   "cell_type": "markdown",
   "metadata": {},
   "source": [
    "## Correcting column order\n",
    "\n",
    "Columns were stored differently from source, correcting the order to concatenate"
   ]
  },
  {
   "cell_type": "code",
   "execution_count": 19,
   "metadata": {},
   "outputs": [],
   "source": [
    "cols = list(greendf.columns)"
   ]
  },
  {
   "cell_type": "code",
   "execution_count": 20,
   "metadata": {},
   "outputs": [],
   "source": [
    "cols.insert(4, cols.pop(cols.index('passenger_count')))"
   ]
  },
  {
   "cell_type": "code",
   "execution_count": 21,
   "metadata": {},
   "outputs": [],
   "source": [
    "greendf = greendf[cols]"
   ]
  },
  {
   "cell_type": "code",
   "execution_count": 22,
   "metadata": {},
   "outputs": [],
   "source": [
    "cols.insert(5, cols.pop(cols.index('trip_distance')))"
   ]
  },
  {
   "cell_type": "code",
   "execution_count": 23,
   "metadata": {},
   "outputs": [],
   "source": [
    "greendf = greendf[cols]"
   ]
  },
  {
   "cell_type": "code",
   "execution_count": 24,
   "metadata": {},
   "outputs": [],
   "source": [
    "cols.insert(9, cols.pop(cols.index('payment_type')))\n",
    "greendf = greendf[cols]"
   ]
  },
  {
   "cell_type": "code",
   "execution_count": 25,
   "metadata": {},
   "outputs": [
    {
     "data": {
      "text/plain": [
       "True"
      ]
     },
     "execution_count": 25,
     "metadata": {},
     "output_type": "execute_result"
    }
   ],
   "source": [
    "list(yellowdf.columns) == list(greendf.columns)"
   ]
  },
  {
   "cell_type": "code",
   "execution_count": 26,
   "metadata": {},
   "outputs": [],
   "source": [
    "df = pd.concat([yellowdf, greendf])"
   ]
  },
  {
   "cell_type": "code",
   "execution_count": 18,
   "metadata": {},
   "outputs": [
    {
     "data": {
      "text/plain": [
       "(5923399, 24)"
      ]
     },
     "execution_count": 18,
     "metadata": {},
     "output_type": "execute_result"
    }
   ],
   "source": [
    "df.shape"
   ]
  },
  {
   "cell_type": "code",
   "execution_count": 19,
   "metadata": {},
   "outputs": [
    {
     "data": {
      "text/plain": [
       "(5530349, 24)"
      ]
     },
     "execution_count": 19,
     "metadata": {},
     "output_type": "execute_result"
    }
   ],
   "source": [
    "yellowdf.shape"
   ]
  },
  {
   "cell_type": "code",
   "execution_count": 20,
   "metadata": {},
   "outputs": [
    {
     "data": {
      "text/plain": [
       "(393050, 24)"
      ]
     },
     "execution_count": 20,
     "metadata": {},
     "output_type": "execute_result"
    }
   ],
   "source": [
    "greendf.shape"
   ]
  },
  {
   "cell_type": "code",
   "execution_count": 21,
   "metadata": {},
   "outputs": [
    {
     "data": {
      "text/plain": [
       "1    5473524\n",
       "0     449875\n",
       "Name: tip, dtype: int64"
      ]
     },
     "execution_count": 21,
     "metadata": {},
     "output_type": "execute_result"
    }
   ],
   "source": [
    "df.tip.value_counts()"
   ]
  },
  {
   "cell_type": "code",
   "execution_count": 19,
   "metadata": {},
   "outputs": [
    {
     "name": "stdout",
     "output_type": "stream",
     "text": [
      "<class 'pandas.core.frame.DataFrame'>\n",
      "Int64Index: 8060793 entries, 0 to 393049\n",
      "Data columns (total 24 columns):\n",
      " #   Column                 Dtype  \n",
      "---  ------                 -----  \n",
      " 0   tip                    int64  \n",
      " 1   car_type               object \n",
      " 2   pickup_datetime        object \n",
      " 3   dropoff_datetime       object \n",
      " 4   passenger_count        float64\n",
      " 5   trip_distance          float64\n",
      " 6   ratecodeid             object \n",
      " 7   pickup_location_id     float64\n",
      " 8   dropoff_location_id    float64\n",
      " 9   payment_type           object \n",
      " 10  fare_amount            float64\n",
      " 11  extra                  float64\n",
      " 12  mta_tax                float64\n",
      " 13  tolls_amount           float64\n",
      " 14  improvement_surcharge  float64\n",
      " 15  total_amount           float64\n",
      " 16  week_of_month          int64  \n",
      " 17  pickup_hour            int64  \n",
      " 18  dropoff_hour           int64  \n",
      " 19  day                    object \n",
      " 20  pickup_borough         object \n",
      " 21  pickup_zone            object \n",
      " 22  dropoff_borough        object \n",
      " 23  dropoff_zone           object \n",
      "dtypes: float64(10), int64(4), object(10)\n",
      "memory usage: 1.5+ GB\n"
     ]
    }
   ],
   "source": [
    "df.info()"
   ]
  },
  {
   "cell_type": "code",
   "execution_count": 27,
   "metadata": {},
   "outputs": [],
   "source": [
    "df.to_csv(r'/users/michaelharnett/desktop/metis/projects/taxi_tip_classification_metis4/data/totaldf.csv', index=False)"
   ]
  },
  {
   "cell_type": "markdown",
   "metadata": {},
   "source": [
    "# Creating Dummy Columns"
   ]
  },
  {
   "cell_type": "code",
   "execution_count": 22,
   "metadata": {},
   "outputs": [],
   "source": [
    "## first erasing earlier dataframes, as the first time I ran this my computer crashed.\n",
    "yellowdf = 0\n",
    "greendf = 0"
   ]
  },
  {
   "cell_type": "code",
   "execution_count": null,
   "metadata": {},
   "outputs": [],
   "source": [
    "len(df.pickup_zone.value_counts())"
   ]
  },
  {
   "cell_type": "code",
   "execution_count": null,
   "metadata": {},
   "outputs": [],
   "source": [
    "'''\n",
    "After the second attempt, and crash, I will be removing the pickup and dropoff zones. Independently using these for dummies worked. can try to create the dummies off\n",
    "smaller dataframes and merge together, but the yellowdf had over 600 columns on its own. May be to big. Borogh information will have to be enough.\n",
    "'''"
   ]
  },
  {
   "cell_type": "code",
   "execution_count": null,
   "metadata": {},
   "outputs": [],
   "source": [
    "df.drop(columns = ['pickup_zone','dropoff_zone'])"
   ]
  },
  {
   "cell_type": "code",
   "execution_count": 23,
   "metadata": {},
   "outputs": [],
   "source": [
    "object_list = list(df.select_dtypes('object').columns)"
   ]
  },
  {
   "cell_type": "code",
   "execution_count": null,
   "metadata": {},
   "outputs": [],
   "source": [
    "object_list"
   ]
  },
  {
   "cell_type": "code",
   "execution_count": null,
   "metadata": {},
   "outputs": [],
   "source": [
    "finaldf = pd.get_dummies(data = df, columns = object_list, drop_first=True)"
   ]
  },
  {
   "cell_type": "code",
   "execution_count": null,
   "metadata": {},
   "outputs": [],
   "source": []
  },
  {
   "cell_type": "code",
   "execution_count": null,
   "metadata": {},
   "outputs": [],
   "source": [
    "'''\n",
    "Still did not help. Looks like yellow it is!\n",
    "'''"
   ]
  },
  {
   "cell_type": "markdown",
   "metadata": {},
   "source": [
    "## Dummies one at a time\n",
    "\n",
    "instead of dummifying all columns at once, lets see if we can do them individually and merge"
   ]
  },
  {
   "cell_type": "code",
   "execution_count": 5,
   "metadata": {},
   "outputs": [],
   "source": [
    "df = pd.read_csv('data/totaldf.csv')"
   ]
  },
  {
   "cell_type": "code",
   "execution_count": 9,
   "metadata": {},
   "outputs": [
    {
     "data": {
      "text/plain": [
       "['car_type',\n",
       " 'pickup_datetime',\n",
       " 'dropoff_datetime',\n",
       " 'ratecodeid',\n",
       " 'payment_type',\n",
       " 'day',\n",
       " 'pickup_borough',\n",
       " 'pickup_zone',\n",
       " 'dropoff_borough',\n",
       " 'dropoff_zone']"
      ]
     },
     "execution_count": 9,
     "metadata": {},
     "output_type": "execute_result"
    }
   ],
   "source": [
    "object_list = list(df.select_dtypes('object').columns)\n",
    "object_list"
   ]
  },
  {
   "cell_type": "code",
   "execution_count": 7,
   "metadata": {},
   "outputs": [
    {
     "data": {
      "text/html": [
       "<div>\n",
       "<style scoped>\n",
       "    .dataframe tbody tr th:only-of-type {\n",
       "        vertical-align: middle;\n",
       "    }\n",
       "\n",
       "    .dataframe tbody tr th {\n",
       "        vertical-align: top;\n",
       "    }\n",
       "\n",
       "    .dataframe thead th {\n",
       "        text-align: right;\n",
       "    }\n",
       "</style>\n",
       "<table border=\"1\" class=\"dataframe\">\n",
       "  <thead>\n",
       "    <tr style=\"text-align: right;\">\n",
       "      <th></th>\n",
       "      <th>yellow</th>\n",
       "    </tr>\n",
       "  </thead>\n",
       "  <tbody>\n",
       "    <tr>\n",
       "      <th>0</th>\n",
       "      <td>1</td>\n",
       "    </tr>\n",
       "    <tr>\n",
       "      <th>1</th>\n",
       "      <td>1</td>\n",
       "    </tr>\n",
       "    <tr>\n",
       "      <th>2</th>\n",
       "      <td>1</td>\n",
       "    </tr>\n",
       "    <tr>\n",
       "      <th>3</th>\n",
       "      <td>1</td>\n",
       "    </tr>\n",
       "    <tr>\n",
       "      <th>4</th>\n",
       "      <td>1</td>\n",
       "    </tr>\n",
       "    <tr>\n",
       "      <th>...</th>\n",
       "      <td>...</td>\n",
       "    </tr>\n",
       "    <tr>\n",
       "      <th>5923394</th>\n",
       "      <td>0</td>\n",
       "    </tr>\n",
       "    <tr>\n",
       "      <th>5923395</th>\n",
       "      <td>0</td>\n",
       "    </tr>\n",
       "    <tr>\n",
       "      <th>5923396</th>\n",
       "      <td>0</td>\n",
       "    </tr>\n",
       "    <tr>\n",
       "      <th>5923397</th>\n",
       "      <td>0</td>\n",
       "    </tr>\n",
       "    <tr>\n",
       "      <th>5923398</th>\n",
       "      <td>0</td>\n",
       "    </tr>\n",
       "  </tbody>\n",
       "</table>\n",
       "<p>5923399 rows × 1 columns</p>\n",
       "</div>"
      ],
      "text/plain": [
       "         yellow\n",
       "0             1\n",
       "1             1\n",
       "2             1\n",
       "3             1\n",
       "4             1\n",
       "...         ...\n",
       "5923394       0\n",
       "5923395       0\n",
       "5923396       0\n",
       "5923397       0\n",
       "5923398       0\n",
       "\n",
       "[5923399 rows x 1 columns]"
      ]
     },
     "execution_count": 7,
     "metadata": {},
     "output_type": "execute_result"
    }
   ],
   "source": [
    "dum1 = pd.get_dummies(data = df.car_type, drop_first = True)\n",
    "dum1"
   ]
  },
  {
   "cell_type": "code",
   "execution_count": 16,
   "metadata": {},
   "outputs": [
    {
     "data": {
      "text/html": [
       "<div>\n",
       "<style scoped>\n",
       "    .dataframe tbody tr th:only-of-type {\n",
       "        vertical-align: middle;\n",
       "    }\n",
       "\n",
       "    .dataframe tbody tr th {\n",
       "        vertical-align: top;\n",
       "    }\n",
       "\n",
       "    .dataframe thead th {\n",
       "        text-align: right;\n",
       "    }\n",
       "</style>\n",
       "<table border=\"1\" class=\"dataframe\">\n",
       "  <thead>\n",
       "    <tr style=\"text-align: right;\">\n",
       "      <th></th>\n",
       "      <th>Unnamed: 0</th>\n",
       "      <th>tip</th>\n",
       "      <th>car_type</th>\n",
       "      <th>pickup_datetime</th>\n",
       "      <th>dropoff_datetime</th>\n",
       "      <th>passenger_count</th>\n",
       "      <th>trip_distance</th>\n",
       "      <th>ratecodeid</th>\n",
       "      <th>pickup_location_id</th>\n",
       "      <th>dropoff_location_id</th>\n",
       "      <th>...</th>\n",
       "      <th>total_amount</th>\n",
       "      <th>week_of_month</th>\n",
       "      <th>pickup_hour</th>\n",
       "      <th>dropoff_hour</th>\n",
       "      <th>day</th>\n",
       "      <th>pickup_borough</th>\n",
       "      <th>pickup_zone</th>\n",
       "      <th>dropoff_borough</th>\n",
       "      <th>dropoff_zone</th>\n",
       "      <th>yellow</th>\n",
       "    </tr>\n",
       "  </thead>\n",
       "  <tbody>\n",
       "    <tr>\n",
       "      <th>0</th>\n",
       "      <td>0</td>\n",
       "      <td>1</td>\n",
       "      <td>yellow</td>\n",
       "      <td>2019-01-01 00:46:40</td>\n",
       "      <td>2019-01-01 00:53:20</td>\n",
       "      <td>1</td>\n",
       "      <td>1.50</td>\n",
       "      <td>standard</td>\n",
       "      <td>151</td>\n",
       "      <td>239</td>\n",
       "      <td>...</td>\n",
       "      <td>9.95</td>\n",
       "      <td>1</td>\n",
       "      <td>0</td>\n",
       "      <td>0</td>\n",
       "      <td>Tuesday</td>\n",
       "      <td>Manhattan</td>\n",
       "      <td>Manhattan Valley</td>\n",
       "      <td>Manhattan</td>\n",
       "      <td>Upper West Side South</td>\n",
       "      <td>1</td>\n",
       "    </tr>\n",
       "    <tr>\n",
       "      <th>1</th>\n",
       "      <td>1</td>\n",
       "      <td>1</td>\n",
       "      <td>yellow</td>\n",
       "      <td>2019-01-01 00:59:47</td>\n",
       "      <td>2019-01-01 01:18:59</td>\n",
       "      <td>1</td>\n",
       "      <td>2.60</td>\n",
       "      <td>standard</td>\n",
       "      <td>239</td>\n",
       "      <td>246</td>\n",
       "      <td>...</td>\n",
       "      <td>16.30</td>\n",
       "      <td>1</td>\n",
       "      <td>0</td>\n",
       "      <td>1</td>\n",
       "      <td>Tuesday</td>\n",
       "      <td>Manhattan</td>\n",
       "      <td>Upper West Side South</td>\n",
       "      <td>Manhattan</td>\n",
       "      <td>West Chelsea/Hudson Yards</td>\n",
       "      <td>1</td>\n",
       "    </tr>\n",
       "    <tr>\n",
       "      <th>2</th>\n",
       "      <td>2</td>\n",
       "      <td>1</td>\n",
       "      <td>yellow</td>\n",
       "      <td>2019-01-01 00:21:28</td>\n",
       "      <td>2019-01-01 00:28:37</td>\n",
       "      <td>1</td>\n",
       "      <td>1.30</td>\n",
       "      <td>standard</td>\n",
       "      <td>163</td>\n",
       "      <td>229</td>\n",
       "      <td>...</td>\n",
       "      <td>9.05</td>\n",
       "      <td>1</td>\n",
       "      <td>0</td>\n",
       "      <td>0</td>\n",
       "      <td>Tuesday</td>\n",
       "      <td>Manhattan</td>\n",
       "      <td>Midtown North</td>\n",
       "      <td>Manhattan</td>\n",
       "      <td>Sutton Place/Turtle Bay North</td>\n",
       "      <td>1</td>\n",
       "    </tr>\n",
       "    <tr>\n",
       "      <th>3</th>\n",
       "      <td>3</td>\n",
       "      <td>1</td>\n",
       "      <td>yellow</td>\n",
       "      <td>2019-01-01 00:32:01</td>\n",
       "      <td>2019-01-01 00:45:39</td>\n",
       "      <td>1</td>\n",
       "      <td>3.70</td>\n",
       "      <td>standard</td>\n",
       "      <td>229</td>\n",
       "      <td>7</td>\n",
       "      <td>...</td>\n",
       "      <td>18.50</td>\n",
       "      <td>1</td>\n",
       "      <td>0</td>\n",
       "      <td>0</td>\n",
       "      <td>Tuesday</td>\n",
       "      <td>Manhattan</td>\n",
       "      <td>Sutton Place/Turtle Bay North</td>\n",
       "      <td>Queens</td>\n",
       "      <td>Astoria</td>\n",
       "      <td>1</td>\n",
       "    </tr>\n",
       "    <tr>\n",
       "      <th>4</th>\n",
       "      <td>4</td>\n",
       "      <td>1</td>\n",
       "      <td>yellow</td>\n",
       "      <td>2019-01-01 00:57:32</td>\n",
       "      <td>2019-01-01 01:09:32</td>\n",
       "      <td>2</td>\n",
       "      <td>2.10</td>\n",
       "      <td>standard</td>\n",
       "      <td>141</td>\n",
       "      <td>234</td>\n",
       "      <td>...</td>\n",
       "      <td>13.00</td>\n",
       "      <td>1</td>\n",
       "      <td>0</td>\n",
       "      <td>1</td>\n",
       "      <td>Tuesday</td>\n",
       "      <td>Manhattan</td>\n",
       "      <td>Lenox Hill West</td>\n",
       "      <td>Manhattan</td>\n",
       "      <td>Union Sq</td>\n",
       "      <td>1</td>\n",
       "    </tr>\n",
       "    <tr>\n",
       "      <th>...</th>\n",
       "      <td>...</td>\n",
       "      <td>...</td>\n",
       "      <td>...</td>\n",
       "      <td>...</td>\n",
       "      <td>...</td>\n",
       "      <td>...</td>\n",
       "      <td>...</td>\n",
       "      <td>...</td>\n",
       "      <td>...</td>\n",
       "      <td>...</td>\n",
       "      <td>...</td>\n",
       "      <td>...</td>\n",
       "      <td>...</td>\n",
       "      <td>...</td>\n",
       "      <td>...</td>\n",
       "      <td>...</td>\n",
       "      <td>...</td>\n",
       "      <td>...</td>\n",
       "      <td>...</td>\n",
       "      <td>...</td>\n",
       "      <td>...</td>\n",
       "    </tr>\n",
       "    <tr>\n",
       "      <th>5923394</th>\n",
       "      <td>393045</td>\n",
       "      <td>1</td>\n",
       "      <td>green</td>\n",
       "      <td>2019-01-31 23:08:27</td>\n",
       "      <td>2019-01-31 23:22:59</td>\n",
       "      <td>1</td>\n",
       "      <td>3.33</td>\n",
       "      <td>standard</td>\n",
       "      <td>255</td>\n",
       "      <td>226</td>\n",
       "      <td>...</td>\n",
       "      <td>18.39</td>\n",
       "      <td>5</td>\n",
       "      <td>23</td>\n",
       "      <td>23</td>\n",
       "      <td>Thursday</td>\n",
       "      <td>Brooklyn</td>\n",
       "      <td>Williamsburg (North Side)</td>\n",
       "      <td>Queens</td>\n",
       "      <td>Sunnyside</td>\n",
       "      <td>0</td>\n",
       "    </tr>\n",
       "    <tr>\n",
       "      <th>5923395</th>\n",
       "      <td>393046</td>\n",
       "      <td>1</td>\n",
       "      <td>green</td>\n",
       "      <td>2019-01-31 23:21:26</td>\n",
       "      <td>2019-01-31 23:23:05</td>\n",
       "      <td>1</td>\n",
       "      <td>0.72</td>\n",
       "      <td>standard</td>\n",
       "      <td>75</td>\n",
       "      <td>151</td>\n",
       "      <td>...</td>\n",
       "      <td>6.36</td>\n",
       "      <td>5</td>\n",
       "      <td>23</td>\n",
       "      <td>23</td>\n",
       "      <td>Thursday</td>\n",
       "      <td>Manhattan</td>\n",
       "      <td>East Harlem South</td>\n",
       "      <td>Manhattan</td>\n",
       "      <td>Manhattan Valley</td>\n",
       "      <td>0</td>\n",
       "    </tr>\n",
       "    <tr>\n",
       "      <th>5923396</th>\n",
       "      <td>393047</td>\n",
       "      <td>0</td>\n",
       "      <td>green</td>\n",
       "      <td>2019-01-31 23:30:05</td>\n",
       "      <td>2019-01-31 23:36:14</td>\n",
       "      <td>1</td>\n",
       "      <td>1.75</td>\n",
       "      <td>standard</td>\n",
       "      <td>75</td>\n",
       "      <td>238</td>\n",
       "      <td>...</td>\n",
       "      <td>8.30</td>\n",
       "      <td>5</td>\n",
       "      <td>23</td>\n",
       "      <td>23</td>\n",
       "      <td>Thursday</td>\n",
       "      <td>Manhattan</td>\n",
       "      <td>East Harlem South</td>\n",
       "      <td>Manhattan</td>\n",
       "      <td>Upper West Side North</td>\n",
       "      <td>0</td>\n",
       "    </tr>\n",
       "    <tr>\n",
       "      <th>5923397</th>\n",
       "      <td>393048</td>\n",
       "      <td>1</td>\n",
       "      <td>green</td>\n",
       "      <td>2019-01-31 23:59:58</td>\n",
       "      <td>2019-02-01 00:04:18</td>\n",
       "      <td>1</td>\n",
       "      <td>0.57</td>\n",
       "      <td>standard</td>\n",
       "      <td>74</td>\n",
       "      <td>74</td>\n",
       "      <td>...</td>\n",
       "      <td>7.30</td>\n",
       "      <td>5</td>\n",
       "      <td>23</td>\n",
       "      <td>0</td>\n",
       "      <td>Thursday</td>\n",
       "      <td>Manhattan</td>\n",
       "      <td>East Harlem North</td>\n",
       "      <td>Manhattan</td>\n",
       "      <td>East Harlem North</td>\n",
       "      <td>0</td>\n",
       "    </tr>\n",
       "    <tr>\n",
       "      <th>5923398</th>\n",
       "      <td>393049</td>\n",
       "      <td>1</td>\n",
       "      <td>green</td>\n",
       "      <td>2019-01-31 23:18:22</td>\n",
       "      <td>2019-01-31 23:26:06</td>\n",
       "      <td>1</td>\n",
       "      <td>2.11</td>\n",
       "      <td>standard</td>\n",
       "      <td>75</td>\n",
       "      <td>262</td>\n",
       "      <td>...</td>\n",
       "      <td>11.76</td>\n",
       "      <td>5</td>\n",
       "      <td>23</td>\n",
       "      <td>23</td>\n",
       "      <td>Thursday</td>\n",
       "      <td>Manhattan</td>\n",
       "      <td>East Harlem South</td>\n",
       "      <td>Manhattan</td>\n",
       "      <td>Yorkville East</td>\n",
       "      <td>0</td>\n",
       "    </tr>\n",
       "  </tbody>\n",
       "</table>\n",
       "<p>5923399 rows × 26 columns</p>\n",
       "</div>"
      ],
      "text/plain": [
       "         Unnamed: 0  tip car_type      pickup_datetime     dropoff_datetime  \\\n",
       "0                 0    1   yellow  2019-01-01 00:46:40  2019-01-01 00:53:20   \n",
       "1                 1    1   yellow  2019-01-01 00:59:47  2019-01-01 01:18:59   \n",
       "2                 2    1   yellow  2019-01-01 00:21:28  2019-01-01 00:28:37   \n",
       "3                 3    1   yellow  2019-01-01 00:32:01  2019-01-01 00:45:39   \n",
       "4                 4    1   yellow  2019-01-01 00:57:32  2019-01-01 01:09:32   \n",
       "...             ...  ...      ...                  ...                  ...   \n",
       "5923394      393045    1    green  2019-01-31 23:08:27  2019-01-31 23:22:59   \n",
       "5923395      393046    1    green  2019-01-31 23:21:26  2019-01-31 23:23:05   \n",
       "5923396      393047    0    green  2019-01-31 23:30:05  2019-01-31 23:36:14   \n",
       "5923397      393048    1    green  2019-01-31 23:59:58  2019-02-01 00:04:18   \n",
       "5923398      393049    1    green  2019-01-31 23:18:22  2019-01-31 23:26:06   \n",
       "\n",
       "         passenger_count  trip_distance ratecodeid  pickup_location_id  \\\n",
       "0                      1           1.50   standard                 151   \n",
       "1                      1           2.60   standard                 239   \n",
       "2                      1           1.30   standard                 163   \n",
       "3                      1           3.70   standard                 229   \n",
       "4                      2           2.10   standard                 141   \n",
       "...                  ...            ...        ...                 ...   \n",
       "5923394                1           3.33   standard                 255   \n",
       "5923395                1           0.72   standard                  75   \n",
       "5923396                1           1.75   standard                  75   \n",
       "5923397                1           0.57   standard                  74   \n",
       "5923398                1           2.11   standard                  75   \n",
       "\n",
       "         dropoff_location_id  ... total_amount  week_of_month  pickup_hour  \\\n",
       "0                        239  ...         9.95              1            0   \n",
       "1                        246  ...        16.30              1            0   \n",
       "2                        229  ...         9.05              1            0   \n",
       "3                          7  ...        18.50              1            0   \n",
       "4                        234  ...        13.00              1            0   \n",
       "...                      ...  ...          ...            ...          ...   \n",
       "5923394                  226  ...        18.39              5           23   \n",
       "5923395                  151  ...         6.36              5           23   \n",
       "5923396                  238  ...         8.30              5           23   \n",
       "5923397                   74  ...         7.30              5           23   \n",
       "5923398                  262  ...        11.76              5           23   \n",
       "\n",
       "         dropoff_hour       day  pickup_borough  \\\n",
       "0                   0   Tuesday       Manhattan   \n",
       "1                   1   Tuesday       Manhattan   \n",
       "2                   0   Tuesday       Manhattan   \n",
       "3                   0   Tuesday       Manhattan   \n",
       "4                   1   Tuesday       Manhattan   \n",
       "...               ...       ...             ...   \n",
       "5923394            23  Thursday        Brooklyn   \n",
       "5923395            23  Thursday       Manhattan   \n",
       "5923396            23  Thursday       Manhattan   \n",
       "5923397             0  Thursday       Manhattan   \n",
       "5923398            23  Thursday       Manhattan   \n",
       "\n",
       "                           pickup_zone  dropoff_borough  \\\n",
       "0                     Manhattan Valley        Manhattan   \n",
       "1                Upper West Side South        Manhattan   \n",
       "2                        Midtown North        Manhattan   \n",
       "3        Sutton Place/Turtle Bay North           Queens   \n",
       "4                      Lenox Hill West        Manhattan   \n",
       "...                                ...              ...   \n",
       "5923394      Williamsburg (North Side)           Queens   \n",
       "5923395              East Harlem South        Manhattan   \n",
       "5923396              East Harlem South        Manhattan   \n",
       "5923397              East Harlem North        Manhattan   \n",
       "5923398              East Harlem South        Manhattan   \n",
       "\n",
       "                          dropoff_zone  yellow  \n",
       "0                Upper West Side South       1  \n",
       "1            West Chelsea/Hudson Yards       1  \n",
       "2        Sutton Place/Turtle Bay North       1  \n",
       "3                              Astoria       1  \n",
       "4                             Union Sq       1  \n",
       "...                                ...     ...  \n",
       "5923394                      Sunnyside       0  \n",
       "5923395               Manhattan Valley       0  \n",
       "5923396          Upper West Side North       0  \n",
       "5923397              East Harlem North       0  \n",
       "5923398                 Yorkville East       0  \n",
       "\n",
       "[5923399 rows x 26 columns]"
      ]
     },
     "execution_count": 16,
     "metadata": {},
     "output_type": "execute_result"
    }
   ],
   "source": [
    "pd.merge(df, dum1, left_index=True, right_index=True)"
   ]
  },
  {
   "cell_type": "code",
   "execution_count": null,
   "metadata": {},
   "outputs": [],
   "source": []
  }
 ],
 "metadata": {
  "kernelspec": {
   "display_name": "Python 3",
   "language": "python",
   "name": "python3"
  },
  "language_info": {
   "codemirror_mode": {
    "name": "ipython",
    "version": 3
   },
   "file_extension": ".py",
   "mimetype": "text/x-python",
   "name": "python",
   "nbconvert_exporter": "python",
   "pygments_lexer": "ipython3",
   "version": "3.8.10"
  }
 },
 "nbformat": 4,
 "nbformat_minor": 4
}

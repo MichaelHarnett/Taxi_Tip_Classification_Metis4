{
 "cells": [
  {
   "cell_type": "code",
   "execution_count": 4,
   "metadata": {},
   "outputs": [],
   "source": [
    "import pandas as pd\n",
    "import numpy as np\n",
    "import datetime as dt"
   ]
  },
  {
   "cell_type": "code",
   "execution_count": 5,
   "metadata": {},
   "outputs": [],
   "source": [
    "# import matplotlib.pyplot as plt\n",
    "# import seaborn as sns\n",
    "\n",
    "# plt.style.use('ggplot')\n",
    "# %matplotlib inline\n",
    "# np.set_printoptions(suppress=True)"
   ]
  },
  {
   "cell_type": "code",
   "execution_count": 84,
   "metadata": {},
   "outputs": [],
   "source": [
    "df = pd.read_csv('https://s3.amazonaws.com/nyc-tlc/trip+data/green_tripdata_2019-01.csv')"
   ]
  },
  {
   "cell_type": "code",
   "execution_count": 85,
   "metadata": {},
   "outputs": [
    {
     "data": {
      "text/html": [
       "<div>\n",
       "<style scoped>\n",
       "    .dataframe tbody tr th:only-of-type {\n",
       "        vertical-align: middle;\n",
       "    }\n",
       "\n",
       "    .dataframe tbody tr th {\n",
       "        vertical-align: top;\n",
       "    }\n",
       "\n",
       "    .dataframe thead th {\n",
       "        text-align: right;\n",
       "    }\n",
       "</style>\n",
       "<table border=\"1\" class=\"dataframe\">\n",
       "  <thead>\n",
       "    <tr style=\"text-align: right;\">\n",
       "      <th></th>\n",
       "      <th>VendorID</th>\n",
       "      <th>lpep_pickup_datetime</th>\n",
       "      <th>lpep_dropoff_datetime</th>\n",
       "      <th>store_and_fwd_flag</th>\n",
       "      <th>RatecodeID</th>\n",
       "      <th>PULocationID</th>\n",
       "      <th>DOLocationID</th>\n",
       "      <th>passenger_count</th>\n",
       "      <th>trip_distance</th>\n",
       "      <th>fare_amount</th>\n",
       "      <th>extra</th>\n",
       "      <th>mta_tax</th>\n",
       "      <th>tip_amount</th>\n",
       "      <th>tolls_amount</th>\n",
       "      <th>ehail_fee</th>\n",
       "      <th>improvement_surcharge</th>\n",
       "      <th>total_amount</th>\n",
       "      <th>payment_type</th>\n",
       "      <th>trip_type</th>\n",
       "      <th>congestion_surcharge</th>\n",
       "    </tr>\n",
       "  </thead>\n",
       "  <tbody>\n",
       "    <tr>\n",
       "      <th>0</th>\n",
       "      <td>2</td>\n",
       "      <td>2018-12-21 15:17:29</td>\n",
       "      <td>2018-12-21 15:18:57</td>\n",
       "      <td>N</td>\n",
       "      <td>1</td>\n",
       "      <td>264</td>\n",
       "      <td>264</td>\n",
       "      <td>5</td>\n",
       "      <td>0.0</td>\n",
       "      <td>3.0</td>\n",
       "      <td>0.5</td>\n",
       "      <td>0.5</td>\n",
       "      <td>0.0</td>\n",
       "      <td>0.0</td>\n",
       "      <td>NaN</td>\n",
       "      <td>0.3</td>\n",
       "      <td>4.3</td>\n",
       "      <td>2</td>\n",
       "      <td>1</td>\n",
       "      <td>NaN</td>\n",
       "    </tr>\n",
       "  </tbody>\n",
       "</table>\n",
       "</div>"
      ],
      "text/plain": [
       "   VendorID lpep_pickup_datetime lpep_dropoff_datetime store_and_fwd_flag  \\\n",
       "0         2  2018-12-21 15:17:29   2018-12-21 15:18:57                  N   \n",
       "\n",
       "   RatecodeID  PULocationID  DOLocationID  passenger_count  trip_distance  \\\n",
       "0           1           264           264                5            0.0   \n",
       "\n",
       "   fare_amount  extra  mta_tax  tip_amount  tolls_amount  ehail_fee  \\\n",
       "0          3.0    0.5      0.5         0.0           0.0        NaN   \n",
       "\n",
       "   improvement_surcharge  total_amount  payment_type  trip_type  \\\n",
       "0                    0.3           4.3             2          1   \n",
       "\n",
       "   congestion_surcharge  \n",
       "0                   NaN  "
      ]
     },
     "execution_count": 85,
     "metadata": {},
     "output_type": "execute_result"
    }
   ],
   "source": [
    "df.head(1)"
   ]
  },
  {
   "cell_type": "code",
   "execution_count": 86,
   "metadata": {},
   "outputs": [],
   "source": [
    "df.columns = df.columns.str.lower()"
   ]
  },
  {
   "cell_type": "markdown",
   "metadata": {},
   "source": [
    "## Payment Types\n",
    "Removing payment type 2, cash payments. The data source noted that cash rides do not record tips"
   ]
  },
  {
   "cell_type": "code",
   "execution_count": 87,
   "metadata": {},
   "outputs": [
    {
     "data": {
      "text/plain": [
       "1    388313\n",
       "2    237857\n",
       "3      3392\n",
       "4      1330\n",
       "5        26\n",
       "Name: payment_type, dtype: int64"
      ]
     },
     "execution_count": 87,
     "metadata": {},
     "output_type": "execute_result"
    }
   ],
   "source": [
    "df.payment_type.value_counts()"
   ]
  },
  {
   "cell_type": "code",
   "execution_count": 88,
   "metadata": {},
   "outputs": [],
   "source": [
    "df = df[df.payment_type !=2]"
   ]
  },
  {
   "cell_type": "code",
   "execution_count": 89,
   "metadata": {},
   "outputs": [],
   "source": [
    "# mapping the numerical values into their appropriate titles since this is categorical\n",
    "\n",
    "payment_dict = {1:'credit',\n",
    "               3:'no charge',\n",
    "               4:'Dispute',\n",
    "               5:'unknown',\n",
    "               6:'voided'}"
   ]
  },
  {
   "cell_type": "code",
   "execution_count": 90,
   "metadata": {},
   "outputs": [],
   "source": [
    "df.payment_type = df.payment_type.map(payment_dict)"
   ]
  },
  {
   "cell_type": "code",
   "execution_count": 91,
   "metadata": {},
   "outputs": [
    {
     "data": {
      "text/html": [
       "<div>\n",
       "<style scoped>\n",
       "    .dataframe tbody tr th:only-of-type {\n",
       "        vertical-align: middle;\n",
       "    }\n",
       "\n",
       "    .dataframe tbody tr th {\n",
       "        vertical-align: top;\n",
       "    }\n",
       "\n",
       "    .dataframe thead th {\n",
       "        text-align: right;\n",
       "    }\n",
       "</style>\n",
       "<table border=\"1\" class=\"dataframe\">\n",
       "  <thead>\n",
       "    <tr style=\"text-align: right;\">\n",
       "      <th></th>\n",
       "      <th>vendorid</th>\n",
       "      <th>lpep_pickup_datetime</th>\n",
       "      <th>lpep_dropoff_datetime</th>\n",
       "      <th>store_and_fwd_flag</th>\n",
       "      <th>ratecodeid</th>\n",
       "      <th>pulocationid</th>\n",
       "      <th>dolocationid</th>\n",
       "      <th>passenger_count</th>\n",
       "      <th>trip_distance</th>\n",
       "      <th>fare_amount</th>\n",
       "      <th>extra</th>\n",
       "      <th>mta_tax</th>\n",
       "      <th>tip_amount</th>\n",
       "      <th>tolls_amount</th>\n",
       "      <th>ehail_fee</th>\n",
       "      <th>improvement_surcharge</th>\n",
       "      <th>total_amount</th>\n",
       "      <th>payment_type</th>\n",
       "      <th>trip_type</th>\n",
       "      <th>congestion_surcharge</th>\n",
       "    </tr>\n",
       "  </thead>\n",
       "  <tbody>\n",
       "    <tr>\n",
       "      <th>2</th>\n",
       "      <td>2</td>\n",
       "      <td>2019-01-01 00:27:11</td>\n",
       "      <td>2019-01-01 00:31:38</td>\n",
       "      <td>N</td>\n",
       "      <td>1</td>\n",
       "      <td>49</td>\n",
       "      <td>189</td>\n",
       "      <td>2</td>\n",
       "      <td>0.66</td>\n",
       "      <td>4.5</td>\n",
       "      <td>0.5</td>\n",
       "      <td>0.5</td>\n",
       "      <td>0.00</td>\n",
       "      <td>0.0</td>\n",
       "      <td>NaN</td>\n",
       "      <td>0.3</td>\n",
       "      <td>5.80</td>\n",
       "      <td>credit</td>\n",
       "      <td>1</td>\n",
       "      <td>NaN</td>\n",
       "    </tr>\n",
       "    <tr>\n",
       "      <th>3</th>\n",
       "      <td>2</td>\n",
       "      <td>2019-01-01 00:46:20</td>\n",
       "      <td>2019-01-01 01:04:54</td>\n",
       "      <td>N</td>\n",
       "      <td>1</td>\n",
       "      <td>189</td>\n",
       "      <td>17</td>\n",
       "      <td>2</td>\n",
       "      <td>2.68</td>\n",
       "      <td>13.5</td>\n",
       "      <td>0.5</td>\n",
       "      <td>0.5</td>\n",
       "      <td>2.96</td>\n",
       "      <td>0.0</td>\n",
       "      <td>NaN</td>\n",
       "      <td>0.3</td>\n",
       "      <td>19.71</td>\n",
       "      <td>credit</td>\n",
       "      <td>1</td>\n",
       "      <td>NaN</td>\n",
       "    </tr>\n",
       "    <tr>\n",
       "      <th>5</th>\n",
       "      <td>2</td>\n",
       "      <td>2019-01-01 00:12:35</td>\n",
       "      <td>2019-01-01 00:19:09</td>\n",
       "      <td>N</td>\n",
       "      <td>1</td>\n",
       "      <td>49</td>\n",
       "      <td>17</td>\n",
       "      <td>1</td>\n",
       "      <td>1.05</td>\n",
       "      <td>6.5</td>\n",
       "      <td>0.5</td>\n",
       "      <td>0.5</td>\n",
       "      <td>0.00</td>\n",
       "      <td>0.0</td>\n",
       "      <td>NaN</td>\n",
       "      <td>0.3</td>\n",
       "      <td>7.80</td>\n",
       "      <td>credit</td>\n",
       "      <td>1</td>\n",
       "      <td>NaN</td>\n",
       "    </tr>\n",
       "    <tr>\n",
       "      <th>6</th>\n",
       "      <td>2</td>\n",
       "      <td>2019-01-01 00:47:55</td>\n",
       "      <td>2019-01-01 01:00:01</td>\n",
       "      <td>N</td>\n",
       "      <td>1</td>\n",
       "      <td>255</td>\n",
       "      <td>33</td>\n",
       "      <td>1</td>\n",
       "      <td>3.77</td>\n",
       "      <td>13.5</td>\n",
       "      <td>0.5</td>\n",
       "      <td>0.5</td>\n",
       "      <td>0.00</td>\n",
       "      <td>0.0</td>\n",
       "      <td>NaN</td>\n",
       "      <td>0.3</td>\n",
       "      <td>14.80</td>\n",
       "      <td>credit</td>\n",
       "      <td>1</td>\n",
       "      <td>NaN</td>\n",
       "    </tr>\n",
       "    <tr>\n",
       "      <th>7</th>\n",
       "      <td>1</td>\n",
       "      <td>2019-01-01 00:12:47</td>\n",
       "      <td>2019-01-01 00:30:50</td>\n",
       "      <td>N</td>\n",
       "      <td>1</td>\n",
       "      <td>76</td>\n",
       "      <td>225</td>\n",
       "      <td>1</td>\n",
       "      <td>4.10</td>\n",
       "      <td>16.0</td>\n",
       "      <td>0.5</td>\n",
       "      <td>0.5</td>\n",
       "      <td>0.00</td>\n",
       "      <td>0.0</td>\n",
       "      <td>NaN</td>\n",
       "      <td>0.3</td>\n",
       "      <td>17.30</td>\n",
       "      <td>credit</td>\n",
       "      <td>1</td>\n",
       "      <td>NaN</td>\n",
       "    </tr>\n",
       "  </tbody>\n",
       "</table>\n",
       "</div>"
      ],
      "text/plain": [
       "   vendorid lpep_pickup_datetime lpep_dropoff_datetime store_and_fwd_flag  \\\n",
       "2         2  2019-01-01 00:27:11   2019-01-01 00:31:38                  N   \n",
       "3         2  2019-01-01 00:46:20   2019-01-01 01:04:54                  N   \n",
       "5         2  2019-01-01 00:12:35   2019-01-01 00:19:09                  N   \n",
       "6         2  2019-01-01 00:47:55   2019-01-01 01:00:01                  N   \n",
       "7         1  2019-01-01 00:12:47   2019-01-01 00:30:50                  N   \n",
       "\n",
       "   ratecodeid  pulocationid  dolocationid  passenger_count  trip_distance  \\\n",
       "2           1            49           189                2           0.66   \n",
       "3           1           189            17                2           2.68   \n",
       "5           1            49            17                1           1.05   \n",
       "6           1           255            33                1           3.77   \n",
       "7           1            76           225                1           4.10   \n",
       "\n",
       "   fare_amount  extra  mta_tax  tip_amount  tolls_amount  ehail_fee  \\\n",
       "2          4.5    0.5      0.5        0.00           0.0        NaN   \n",
       "3         13.5    0.5      0.5        2.96           0.0        NaN   \n",
       "5          6.5    0.5      0.5        0.00           0.0        NaN   \n",
       "6         13.5    0.5      0.5        0.00           0.0        NaN   \n",
       "7         16.0    0.5      0.5        0.00           0.0        NaN   \n",
       "\n",
       "   improvement_surcharge  total_amount payment_type  trip_type  \\\n",
       "2                    0.3          5.80       credit          1   \n",
       "3                    0.3         19.71       credit          1   \n",
       "5                    0.3          7.80       credit          1   \n",
       "6                    0.3         14.80       credit          1   \n",
       "7                    0.3         17.30       credit          1   \n",
       "\n",
       "   congestion_surcharge  \n",
       "2                   NaN  \n",
       "3                   NaN  \n",
       "5                   NaN  \n",
       "6                   NaN  \n",
       "7                   NaN  "
      ]
     },
     "execution_count": 91,
     "metadata": {},
     "output_type": "execute_result"
    }
   ],
   "source": [
    "df.head()"
   ]
  },
  {
   "cell_type": "markdown",
   "metadata": {},
   "source": [
    "## Removing Columns\n",
    "Some columns only existed for yellow, or green cars. Removing them to combine later. Also remvoing \"congestion_surcharge\" There were a large number of NaN's in both data sets. A baseline tree consisting of non-NaN congestion surcharge also showed little gain from this feature"
   ]
  },
  {
   "cell_type": "code",
   "execution_count": 92,
   "metadata": {},
   "outputs": [],
   "source": [
    "df.drop(columns=['ehail_fee','trip_type','store_and_fwd_flag',\n",
    "                 'congestion_surcharge','vendorid'],inplace=True)"
   ]
  },
  {
   "cell_type": "code",
   "execution_count": 93,
   "metadata": {},
   "outputs": [
    {
     "name": "stdout",
     "output_type": "stream",
     "text": [
      "<class 'pandas.core.frame.DataFrame'>\n",
      "Int64Index: 393061 entries, 2 to 630917\n",
      "Data columns (total 16 columns):\n",
      " #   Column                 Non-Null Count   Dtype  \n",
      "---  ------                 --------------   -----  \n",
      " 0   vendorid               393061 non-null  int64  \n",
      " 1   lpep_pickup_datetime   393061 non-null  object \n",
      " 2   lpep_dropoff_datetime  393061 non-null  object \n",
      " 3   ratecodeid             393061 non-null  int64  \n",
      " 4   pulocationid           393061 non-null  int64  \n",
      " 5   dolocationid           393061 non-null  int64  \n",
      " 6   passenger_count        393061 non-null  int64  \n",
      " 7   trip_distance          393061 non-null  float64\n",
      " 8   fare_amount            393061 non-null  float64\n",
      " 9   extra                  393061 non-null  float64\n",
      " 10  mta_tax                393061 non-null  float64\n",
      " 11  tip_amount             393061 non-null  float64\n",
      " 12  tolls_amount           393061 non-null  float64\n",
      " 13  improvement_surcharge  393061 non-null  float64\n",
      " 14  total_amount           393061 non-null  float64\n",
      " 15  payment_type           393061 non-null  object \n",
      "dtypes: float64(8), int64(5), object(3)\n",
      "memory usage: 51.0+ MB\n"
     ]
    }
   ],
   "source": [
    "df.info()"
   ]
  },
  {
   "cell_type": "markdown",
   "metadata": {},
   "source": [
    "## Setting Target\n",
    "\n",
    "Changing the \"tip_amount\" column to \"tip\" and changing it to a binary column to use as my target"
   ]
  },
  {
   "cell_type": "code",
   "execution_count": 94,
   "metadata": {},
   "outputs": [],
   "source": [
    "df.rename(columns = {'tip_amount':'tip'},inplace=True)"
   ]
  },
  {
   "cell_type": "code",
   "execution_count": 95,
   "metadata": {},
   "outputs": [],
   "source": [
    "#putting target variable in first column\n",
    "\n",
    "cols = list(df.columns)\n",
    "cols.insert(0, cols.pop(cols.index('tip')))\n",
    "df = df[cols]"
   ]
  },
  {
   "cell_type": "code",
   "execution_count": 96,
   "metadata": {},
   "outputs": [],
   "source": [
    "def to_binary(value):\n",
    "    if value > 0:\n",
    "        return 1\n",
    "    else:\n",
    "        return 0"
   ]
  },
  {
   "cell_type": "code",
   "execution_count": 97,
   "metadata": {},
   "outputs": [],
   "source": [
    "df.tip = df.tip.apply(to_binary)"
   ]
  },
  {
   "cell_type": "markdown",
   "metadata": {},
   "source": [
    "## Ratecode ID\n",
    "\n",
    "converting the ratecode ID numerical values to appropriate labels for one hot encoding"
   ]
  },
  {
   "cell_type": "code",
   "execution_count": 98,
   "metadata": {},
   "outputs": [],
   "source": [
    "ratecode_dict = {1:'standard',\n",
    "                2:'jfk',\n",
    "                3:'newark',\n",
    "                4:'nassau/weschester',\n",
    "                5:'negotiated',\n",
    "                6:'group'}"
   ]
  },
  {
   "cell_type": "code",
   "execution_count": 99,
   "metadata": {},
   "outputs": [],
   "source": [
    "df.ratecodeid = df.ratecodeid.map(ratecode_dict)"
   ]
  },
  {
   "cell_type": "code",
   "execution_count": 100,
   "metadata": {},
   "outputs": [
    {
     "data": {
      "text/plain": [
       "standard             346466\n",
       "negotiated            45693\n",
       "jfk                     485\n",
       "nassau/weschester       290\n",
       "newark                  124\n",
       "group                     3\n",
       "Name: ratecodeid, dtype: int64"
      ]
     },
     "execution_count": 100,
     "metadata": {},
     "output_type": "execute_result"
    }
   ],
   "source": [
    "df.ratecodeid.value_counts()"
   ]
  },
  {
   "cell_type": "markdown",
   "metadata": {},
   "source": [
    "## Datetime Elements\n",
    "\n",
    "Using the provided timestamps, I am creating features for week of the month, day of the week, and hour of the day, all stored as string values to later be one-hot-encoded"
   ]
  },
  {
   "cell_type": "code",
   "execution_count": 101,
   "metadata": {},
   "outputs": [],
   "source": [
    "#making the columns easier to work with\n",
    "\n",
    "df.rename(columns = {'lpep_pickup_datetime':'pickup_datetime','lpep_dropoff_datetime':'dropoff_datetime'},inplace=True)"
   ]
  },
  {
   "cell_type": "code",
   "execution_count": 102,
   "metadata": {},
   "outputs": [],
   "source": [
    "df.pickup_datetime, df.dropoff_datetime = pd.to_datetime(df.pickup_datetime), pd.to_datetime(df.dropoff_datetime)"
   ]
  },
  {
   "cell_type": "code",
   "execution_count": 103,
   "metadata": {},
   "outputs": [
    {
     "name": "stderr",
     "output_type": "stream",
     "text": [
      "<ipython-input-103-c27da1b06245>:1: FutureWarning: Series.dt.weekofyear and Series.dt.week have been deprecated.  Please use Series.dt.isocalendar().week instead.\n",
      "  df['week_of_month'] = df.pickup_datetime.dt.weekofyear\n"
     ]
    }
   ],
   "source": [
    "df['week_of_month'] = df.pickup_datetime.dt.weekofyear\n",
    "\n",
    "# removing erroneous dates for accuracy\n",
    "\n",
    "df = df[df.week_of_month<6]\n",
    "\n",
    "# converting column to string\n",
    "\n",
    "df.week_of_month = df.week_of_month.astype(str)"
   ]
  },
  {
   "cell_type": "code",
   "execution_count": 104,
   "metadata": {},
   "outputs": [],
   "source": [
    "df['pickup_hour'] = (df.pickup_datetime.dt.hour).astype(str)\n",
    "df['dropoff_hour'] = (df.dropoff_datetime.dt.hour).astype(str)\n",
    "df['day'] = (df.pickup_datetime.dt.day_name()).astype(str)"
   ]
  },
  {
   "cell_type": "code",
   "execution_count": 105,
   "metadata": {},
   "outputs": [
    {
     "data": {
      "text/html": [
       "<div>\n",
       "<style scoped>\n",
       "    .dataframe tbody tr th:only-of-type {\n",
       "        vertical-align: middle;\n",
       "    }\n",
       "\n",
       "    .dataframe tbody tr th {\n",
       "        vertical-align: top;\n",
       "    }\n",
       "\n",
       "    .dataframe thead th {\n",
       "        text-align: right;\n",
       "    }\n",
       "</style>\n",
       "<table border=\"1\" class=\"dataframe\">\n",
       "  <thead>\n",
       "    <tr style=\"text-align: right;\">\n",
       "      <th></th>\n",
       "      <th>tip</th>\n",
       "      <th>vendorid</th>\n",
       "      <th>pickup_datetime</th>\n",
       "      <th>dropoff_datetime</th>\n",
       "      <th>ratecodeid</th>\n",
       "      <th>pulocationid</th>\n",
       "      <th>dolocationid</th>\n",
       "      <th>passenger_count</th>\n",
       "      <th>trip_distance</th>\n",
       "      <th>fare_amount</th>\n",
       "      <th>extra</th>\n",
       "      <th>mta_tax</th>\n",
       "      <th>tolls_amount</th>\n",
       "      <th>improvement_surcharge</th>\n",
       "      <th>total_amount</th>\n",
       "      <th>payment_type</th>\n",
       "      <th>week_of_month</th>\n",
       "      <th>pickup_hour</th>\n",
       "      <th>dropoff_hour</th>\n",
       "      <th>day</th>\n",
       "    </tr>\n",
       "  </thead>\n",
       "  <tbody>\n",
       "    <tr>\n",
       "      <th>2</th>\n",
       "      <td>0</td>\n",
       "      <td>2</td>\n",
       "      <td>2019-01-01 00:27:11</td>\n",
       "      <td>2019-01-01 00:31:38</td>\n",
       "      <td>standard</td>\n",
       "      <td>49</td>\n",
       "      <td>189</td>\n",
       "      <td>2</td>\n",
       "      <td>0.66</td>\n",
       "      <td>4.5</td>\n",
       "      <td>0.5</td>\n",
       "      <td>0.5</td>\n",
       "      <td>0.0</td>\n",
       "      <td>0.3</td>\n",
       "      <td>5.8</td>\n",
       "      <td>credit</td>\n",
       "      <td>1</td>\n",
       "      <td>0</td>\n",
       "      <td>0</td>\n",
       "      <td>Tuesday</td>\n",
       "    </tr>\n",
       "  </tbody>\n",
       "</table>\n",
       "</div>"
      ],
      "text/plain": [
       "   tip  vendorid     pickup_datetime    dropoff_datetime ratecodeid  \\\n",
       "2    0         2 2019-01-01 00:27:11 2019-01-01 00:31:38   standard   \n",
       "\n",
       "   pulocationid  dolocationid  passenger_count  trip_distance  fare_amount  \\\n",
       "2            49           189                2           0.66          4.5   \n",
       "\n",
       "   extra  mta_tax  tolls_amount  improvement_surcharge  total_amount  \\\n",
       "2    0.5      0.5           0.0                    0.3           5.8   \n",
       "\n",
       "  payment_type week_of_month pickup_hour dropoff_hour      day  \n",
       "2       credit             1           0            0  Tuesday  "
      ]
     },
     "execution_count": 105,
     "metadata": {},
     "output_type": "execute_result"
    }
   ],
   "source": [
    "df.head(1)"
   ]
  },
  {
   "cell_type": "code",
   "execution_count": 109,
   "metadata": {},
   "outputs": [
    {
     "name": "stdout",
     "output_type": "stream",
     "text": [
      "<class 'pandas.core.frame.DataFrame'>\n",
      "Int64Index: 393050 entries, 2 to 630917\n",
      "Data columns (total 19 columns):\n",
      " #   Column                 Non-Null Count   Dtype         \n",
      "---  ------                 --------------   -----         \n",
      " 0   tip                    393050 non-null  int64         \n",
      " 1   pickup_datetime        393050 non-null  datetime64[ns]\n",
      " 2   dropoff_datetime       393050 non-null  datetime64[ns]\n",
      " 3   ratecodeid             393050 non-null  object        \n",
      " 4   pulocationid           393050 non-null  int64         \n",
      " 5   dolocationid           393050 non-null  int64         \n",
      " 6   passenger_count        393050 non-null  int64         \n",
      " 7   trip_distance          393050 non-null  float64       \n",
      " 8   fare_amount            393050 non-null  float64       \n",
      " 9   extra                  393050 non-null  float64       \n",
      " 10  mta_tax                393050 non-null  float64       \n",
      " 11  tolls_amount           393050 non-null  float64       \n",
      " 12  improvement_surcharge  393050 non-null  float64       \n",
      " 13  total_amount           393050 non-null  float64       \n",
      " 14  payment_type           393050 non-null  object        \n",
      " 15  week_of_month          393050 non-null  object        \n",
      " 16  pickup_hour            393050 non-null  object        \n",
      " 17  dropoff_hour           393050 non-null  object        \n",
      " 18  day                    393050 non-null  object        \n",
      "dtypes: datetime64[ns](2), float64(7), int64(4), object(6)\n",
      "memory usage: 60.0+ MB\n"
     ]
    }
   ],
   "source": [
    "df.info()"
   ]
  },
  {
   "cell_type": "markdown",
   "metadata": {},
   "source": [
    "## Borough Information\n",
    "\n",
    "pulling in a separate dataframe to change location id's into Borough information"
   ]
  },
  {
   "cell_type": "code",
   "execution_count": 110,
   "metadata": {},
   "outputs": [],
   "source": [
    "locationdf = pd.read_csv('data/locations.csv')"
   ]
  },
  {
   "cell_type": "code",
   "execution_count": 111,
   "metadata": {},
   "outputs": [
    {
     "data": {
      "text/html": [
       "<div>\n",
       "<style scoped>\n",
       "    .dataframe tbody tr th:only-of-type {\n",
       "        vertical-align: middle;\n",
       "    }\n",
       "\n",
       "    .dataframe tbody tr th {\n",
       "        vertical-align: top;\n",
       "    }\n",
       "\n",
       "    .dataframe thead th {\n",
       "        text-align: right;\n",
       "    }\n",
       "</style>\n",
       "<table border=\"1\" class=\"dataframe\">\n",
       "  <thead>\n",
       "    <tr style=\"text-align: right;\">\n",
       "      <th></th>\n",
       "      <th>LocationID</th>\n",
       "      <th>Borough</th>\n",
       "      <th>Zone</th>\n",
       "      <th>service_zone</th>\n",
       "    </tr>\n",
       "  </thead>\n",
       "  <tbody>\n",
       "    <tr>\n",
       "      <th>0</th>\n",
       "      <td>1</td>\n",
       "      <td>EWR</td>\n",
       "      <td>Newark Airport</td>\n",
       "      <td>EWR</td>\n",
       "    </tr>\n",
       "    <tr>\n",
       "      <th>1</th>\n",
       "      <td>2</td>\n",
       "      <td>Queens</td>\n",
       "      <td>Jamaica Bay</td>\n",
       "      <td>Boro Zone</td>\n",
       "    </tr>\n",
       "    <tr>\n",
       "      <th>2</th>\n",
       "      <td>3</td>\n",
       "      <td>Bronx</td>\n",
       "      <td>Allerton/Pelham Gardens</td>\n",
       "      <td>Boro Zone</td>\n",
       "    </tr>\n",
       "    <tr>\n",
       "      <th>3</th>\n",
       "      <td>4</td>\n",
       "      <td>Manhattan</td>\n",
       "      <td>Alphabet City</td>\n",
       "      <td>Yellow Zone</td>\n",
       "    </tr>\n",
       "    <tr>\n",
       "      <th>4</th>\n",
       "      <td>5</td>\n",
       "      <td>Staten Island</td>\n",
       "      <td>Arden Heights</td>\n",
       "      <td>Boro Zone</td>\n",
       "    </tr>\n",
       "    <tr>\n",
       "      <th>...</th>\n",
       "      <td>...</td>\n",
       "      <td>...</td>\n",
       "      <td>...</td>\n",
       "      <td>...</td>\n",
       "    </tr>\n",
       "    <tr>\n",
       "      <th>260</th>\n",
       "      <td>261</td>\n",
       "      <td>Manhattan</td>\n",
       "      <td>World Trade Center</td>\n",
       "      <td>Yellow Zone</td>\n",
       "    </tr>\n",
       "    <tr>\n",
       "      <th>261</th>\n",
       "      <td>262</td>\n",
       "      <td>Manhattan</td>\n",
       "      <td>Yorkville East</td>\n",
       "      <td>Yellow Zone</td>\n",
       "    </tr>\n",
       "    <tr>\n",
       "      <th>262</th>\n",
       "      <td>263</td>\n",
       "      <td>Manhattan</td>\n",
       "      <td>Yorkville West</td>\n",
       "      <td>Yellow Zone</td>\n",
       "    </tr>\n",
       "    <tr>\n",
       "      <th>263</th>\n",
       "      <td>264</td>\n",
       "      <td>Unknown</td>\n",
       "      <td>NV</td>\n",
       "      <td>NaN</td>\n",
       "    </tr>\n",
       "    <tr>\n",
       "      <th>264</th>\n",
       "      <td>265</td>\n",
       "      <td>Unknown</td>\n",
       "      <td>NaN</td>\n",
       "      <td>NaN</td>\n",
       "    </tr>\n",
       "  </tbody>\n",
       "</table>\n",
       "<p>265 rows × 4 columns</p>\n",
       "</div>"
      ],
      "text/plain": [
       "     LocationID        Borough                     Zone service_zone\n",
       "0             1            EWR           Newark Airport          EWR\n",
       "1             2         Queens              Jamaica Bay    Boro Zone\n",
       "2             3          Bronx  Allerton/Pelham Gardens    Boro Zone\n",
       "3             4      Manhattan            Alphabet City  Yellow Zone\n",
       "4             5  Staten Island            Arden Heights    Boro Zone\n",
       "..          ...            ...                      ...          ...\n",
       "260         261      Manhattan       World Trade Center  Yellow Zone\n",
       "261         262      Manhattan           Yorkville East  Yellow Zone\n",
       "262         263      Manhattan           Yorkville West  Yellow Zone\n",
       "263         264        Unknown                       NV          NaN\n",
       "264         265        Unknown                      NaN          NaN\n",
       "\n",
       "[265 rows x 4 columns]"
      ]
     },
     "execution_count": 111,
     "metadata": {},
     "output_type": "execute_result"
    }
   ],
   "source": [
    "locationdf"
   ]
  },
  {
   "cell_type": "code",
   "execution_count": 112,
   "metadata": {},
   "outputs": [],
   "source": [
    "locationdf.columns = locationdf.columns.str.lower()"
   ]
  },
  {
   "cell_type": "code",
   "execution_count": 113,
   "metadata": {},
   "outputs": [],
   "source": [
    "#merging for pickup information\n",
    "df.rename(columns={'pulocationid':'locationid'}, inplace=True)\n",
    "df = pd.merge(df, locationdf[['locationid','borough','zone']], how='left', on='locationid')\n",
    "\n",
    "#renaming columns\n",
    "df.rename(columns={'borough':'pickup_borough', 'locationid':'pickup_location_id',\n",
    "                  'dolocationid':'locationid','zone':'pickup_zone'}, inplace=True)\n",
    "\n",
    "#merging for dropoff information\n",
    "df = pd.merge(df, locationdf[['locationid','borough','zone']], how='left', on='locationid')\n",
    "df.rename(columns={'borough':'dropoff_borough','locationid':'dropoff_location_id',\n",
    "                  'zone':'dropoff_zone'},inplace=True)"
   ]
  },
  {
   "cell_type": "code",
   "execution_count": 114,
   "metadata": {},
   "outputs": [
    {
     "data": {
      "text/html": [
       "<div>\n",
       "<style scoped>\n",
       "    .dataframe tbody tr th:only-of-type {\n",
       "        vertical-align: middle;\n",
       "    }\n",
       "\n",
       "    .dataframe tbody tr th {\n",
       "        vertical-align: top;\n",
       "    }\n",
       "\n",
       "    .dataframe thead th {\n",
       "        text-align: right;\n",
       "    }\n",
       "</style>\n",
       "<table border=\"1\" class=\"dataframe\">\n",
       "  <thead>\n",
       "    <tr style=\"text-align: right;\">\n",
       "      <th></th>\n",
       "      <th>tip</th>\n",
       "      <th>pickup_datetime</th>\n",
       "      <th>dropoff_datetime</th>\n",
       "      <th>ratecodeid</th>\n",
       "      <th>pickup_location_id</th>\n",
       "      <th>dropoff_location_id</th>\n",
       "      <th>passenger_count</th>\n",
       "      <th>trip_distance</th>\n",
       "      <th>fare_amount</th>\n",
       "      <th>extra</th>\n",
       "      <th>...</th>\n",
       "      <th>total_amount</th>\n",
       "      <th>payment_type</th>\n",
       "      <th>week_of_month</th>\n",
       "      <th>pickup_hour</th>\n",
       "      <th>dropoff_hour</th>\n",
       "      <th>day</th>\n",
       "      <th>pickup_borough</th>\n",
       "      <th>pickup_zone</th>\n",
       "      <th>dropoff_borough</th>\n",
       "      <th>dropoff_zone</th>\n",
       "    </tr>\n",
       "  </thead>\n",
       "  <tbody>\n",
       "    <tr>\n",
       "      <th>0</th>\n",
       "      <td>0</td>\n",
       "      <td>2019-01-01 00:27:11</td>\n",
       "      <td>2019-01-01 00:31:38</td>\n",
       "      <td>standard</td>\n",
       "      <td>49</td>\n",
       "      <td>189</td>\n",
       "      <td>2</td>\n",
       "      <td>0.66</td>\n",
       "      <td>4.5</td>\n",
       "      <td>0.5</td>\n",
       "      <td>...</td>\n",
       "      <td>5.8</td>\n",
       "      <td>credit</td>\n",
       "      <td>1</td>\n",
       "      <td>0</td>\n",
       "      <td>0</td>\n",
       "      <td>Tuesday</td>\n",
       "      <td>Brooklyn</td>\n",
       "      <td>Clinton Hill</td>\n",
       "      <td>Brooklyn</td>\n",
       "      <td>Prospect Heights</td>\n",
       "    </tr>\n",
       "  </tbody>\n",
       "</table>\n",
       "<p>1 rows × 23 columns</p>\n",
       "</div>"
      ],
      "text/plain": [
       "   tip     pickup_datetime    dropoff_datetime ratecodeid  pickup_location_id  \\\n",
       "0    0 2019-01-01 00:27:11 2019-01-01 00:31:38   standard                  49   \n",
       "\n",
       "   dropoff_location_id  passenger_count  trip_distance  fare_amount  extra  \\\n",
       "0                  189                2           0.66          4.5    0.5   \n",
       "\n",
       "   ...  total_amount  payment_type  week_of_month  pickup_hour dropoff_hour  \\\n",
       "0  ...           5.8        credit              1            0            0   \n",
       "\n",
       "       day pickup_borough   pickup_zone dropoff_borough      dropoff_zone  \n",
       "0  Tuesday       Brooklyn  Clinton Hill        Brooklyn  Prospect Heights  \n",
       "\n",
       "[1 rows x 23 columns]"
      ]
     },
     "execution_count": 114,
     "metadata": {},
     "output_type": "execute_result"
    }
   ],
   "source": [
    "df.head(1)"
   ]
  },
  {
   "cell_type": "markdown",
   "metadata": {},
   "source": [
    "## Car Color\n",
    "\n",
    "Creating a column that will signify if the car is a yellow or green taxi for when the data is combined"
   ]
  },
  {
   "cell_type": "code",
   "execution_count": 145,
   "metadata": {},
   "outputs": [],
   "source": [
    "df['car_type'] = 'green'"
   ]
  },
  {
   "cell_type": "code",
   "execution_count": 147,
   "metadata": {},
   "outputs": [],
   "source": [
    "cols = list(df.columns)\n",
    "cols.insert(1, cols.pop(cols.index('car_type')))\n",
    "df = df[cols]"
   ]
  },
  {
   "cell_type": "code",
   "execution_count": 150,
   "metadata": {},
   "outputs": [],
   "source": [
    "df.to_csv(r'/users/michaelharnett/desktop/metis/projects/taxi_tip_classification_metis4/data/green1.csv', index=False)"
   ]
  },
  {
   "cell_type": "code",
   "execution_count": 118,
   "metadata": {},
   "outputs": [
    {
     "data": {
      "text/plain": [
       "(393050, 23)"
      ]
     },
     "execution_count": 118,
     "metadata": {},
     "output_type": "execute_result"
    }
   ],
   "source": [
    "df.shape"
   ]
  },
  {
   "cell_type": "code",
   "execution_count": 151,
   "metadata": {},
   "outputs": [
    {
     "name": "stdout",
     "output_type": "stream",
     "text": [
      "<class 'pandas.core.frame.DataFrame'>\n",
      "Int64Index: 393050 entries, 0 to 393049\n",
      "Data columns (total 24 columns):\n",
      " #   Column                 Non-Null Count   Dtype         \n",
      "---  ------                 --------------   -----         \n",
      " 0   tip                    393050 non-null  int64         \n",
      " 1   car_type               393050 non-null  object        \n",
      " 2   pickup_datetime        393050 non-null  datetime64[ns]\n",
      " 3   dropoff_datetime       393050 non-null  datetime64[ns]\n",
      " 4   ratecodeid             393050 non-null  object        \n",
      " 5   pickup_location_id     393050 non-null  int64         \n",
      " 6   dropoff_location_id    393050 non-null  int64         \n",
      " 7   passenger_count        393050 non-null  int64         \n",
      " 8   trip_distance          393050 non-null  float64       \n",
      " 9   fare_amount            393050 non-null  float64       \n",
      " 10  extra                  393050 non-null  float64       \n",
      " 11  mta_tax                393050 non-null  float64       \n",
      " 12  tolls_amount           393050 non-null  float64       \n",
      " 13  improvement_surcharge  393050 non-null  float64       \n",
      " 14  total_amount           393050 non-null  float64       \n",
      " 15  payment_type           393050 non-null  object        \n",
      " 16  week_of_month          393050 non-null  object        \n",
      " 17  pickup_hour            393050 non-null  object        \n",
      " 18  dropoff_hour           393050 non-null  object        \n",
      " 19  day                    393050 non-null  object        \n",
      " 20  pickup_borough         393050 non-null  object        \n",
      " 21  pickup_zone            392924 non-null  object        \n",
      " 22  dropoff_borough        393050 non-null  object        \n",
      " 23  dropoff_zone           392438 non-null  object        \n",
      "dtypes: datetime64[ns](2), float64(7), int64(4), object(11)\n",
      "memory usage: 75.0+ MB\n"
     ]
    }
   ],
   "source": [
    "df.info()"
   ]
  },
  {
   "cell_type": "code",
   "execution_count": null,
   "metadata": {},
   "outputs": [],
   "source": []
  },
  {
   "cell_type": "code",
   "execution_count": 162,
   "metadata": {},
   "outputs": [],
   "source": [
    "object_list = list(df.select_dtypes('object').columns)\n",
    "#object_list.pop(object_list.index('car_type'))"
   ]
  },
  {
   "cell_type": "code",
   "execution_count": 163,
   "metadata": {},
   "outputs": [
    {
     "data": {
      "text/plain": [
       "['car_type',\n",
       " 'ratecodeid',\n",
       " 'payment_type',\n",
       " 'week_of_month',\n",
       " 'pickup_hour',\n",
       " 'dropoff_hour',\n",
       " 'day',\n",
       " 'pickup_borough',\n",
       " 'pickup_zone',\n",
       " 'dropoff_borough',\n",
       " 'dropoff_zone']"
      ]
     },
     "execution_count": 163,
     "metadata": {},
     "output_type": "execute_result"
    }
   ],
   "source": [
    "object_list"
   ]
  },
  {
   "cell_type": "code",
   "execution_count": 120,
   "metadata": {},
   "outputs": [],
   "source": [
    "# dummiesdf = pd.get_dummies(data = df, columns=['ratecodeid','payment_type','week_of_month',\n",
    "#                                              'pickup_hour','dropoff_hour','day','pickup_borough',\n",
    "#                                              'pickup_zone','dropoff_borough','dropoff_zone'], drop_first=True)"
   ]
  },
  {
   "cell_type": "code",
   "execution_count": 164,
   "metadata": {},
   "outputs": [],
   "source": [
    "dummiesdf = pd.get_dummies(data = df, columns=object_list[1:], drop_first = True)"
   ]
  },
  {
   "cell_type": "code",
   "execution_count": 165,
   "metadata": {},
   "outputs": [
    {
     "data": {
      "text/plain": [
       "(393050, 600)"
      ]
     },
     "execution_count": 165,
     "metadata": {},
     "output_type": "execute_result"
    }
   ],
   "source": [
    "dummiesdf.shape"
   ]
  },
  {
   "cell_type": "code",
   "execution_count": 166,
   "metadata": {},
   "outputs": [
    {
     "data": {
      "text/html": [
       "<div>\n",
       "<style scoped>\n",
       "    .dataframe tbody tr th:only-of-type {\n",
       "        vertical-align: middle;\n",
       "    }\n",
       "\n",
       "    .dataframe tbody tr th {\n",
       "        vertical-align: top;\n",
       "    }\n",
       "\n",
       "    .dataframe thead th {\n",
       "        text-align: right;\n",
       "    }\n",
       "</style>\n",
       "<table border=\"1\" class=\"dataframe\">\n",
       "  <thead>\n",
       "    <tr style=\"text-align: right;\">\n",
       "      <th></th>\n",
       "      <th>tip</th>\n",
       "      <th>car_type</th>\n",
       "      <th>pickup_datetime</th>\n",
       "      <th>dropoff_datetime</th>\n",
       "      <th>pickup_location_id</th>\n",
       "      <th>dropoff_location_id</th>\n",
       "      <th>passenger_count</th>\n",
       "      <th>trip_distance</th>\n",
       "      <th>fare_amount</th>\n",
       "      <th>extra</th>\n",
       "      <th>...</th>\n",
       "      <th>dropoff_zone_Williamsbridge/Olinville</th>\n",
       "      <th>dropoff_zone_Williamsburg (North Side)</th>\n",
       "      <th>dropoff_zone_Williamsburg (South Side)</th>\n",
       "      <th>dropoff_zone_Windsor Terrace</th>\n",
       "      <th>dropoff_zone_Woodhaven</th>\n",
       "      <th>dropoff_zone_Woodlawn/Wakefield</th>\n",
       "      <th>dropoff_zone_Woodside</th>\n",
       "      <th>dropoff_zone_World Trade Center</th>\n",
       "      <th>dropoff_zone_Yorkville East</th>\n",
       "      <th>dropoff_zone_Yorkville West</th>\n",
       "    </tr>\n",
       "  </thead>\n",
       "  <tbody>\n",
       "    <tr>\n",
       "      <th>0</th>\n",
       "      <td>0</td>\n",
       "      <td>green</td>\n",
       "      <td>2019-01-01 00:27:11</td>\n",
       "      <td>2019-01-01 00:31:38</td>\n",
       "      <td>49</td>\n",
       "      <td>189</td>\n",
       "      <td>2</td>\n",
       "      <td>0.66</td>\n",
       "      <td>4.5</td>\n",
       "      <td>0.5</td>\n",
       "      <td>...</td>\n",
       "      <td>0</td>\n",
       "      <td>0</td>\n",
       "      <td>0</td>\n",
       "      <td>0</td>\n",
       "      <td>0</td>\n",
       "      <td>0</td>\n",
       "      <td>0</td>\n",
       "      <td>0</td>\n",
       "      <td>0</td>\n",
       "      <td>0</td>\n",
       "    </tr>\n",
       "    <tr>\n",
       "      <th>1</th>\n",
       "      <td>1</td>\n",
       "      <td>green</td>\n",
       "      <td>2019-01-01 00:46:20</td>\n",
       "      <td>2019-01-01 01:04:54</td>\n",
       "      <td>189</td>\n",
       "      <td>17</td>\n",
       "      <td>2</td>\n",
       "      <td>2.68</td>\n",
       "      <td>13.5</td>\n",
       "      <td>0.5</td>\n",
       "      <td>...</td>\n",
       "      <td>0</td>\n",
       "      <td>0</td>\n",
       "      <td>0</td>\n",
       "      <td>0</td>\n",
       "      <td>0</td>\n",
       "      <td>0</td>\n",
       "      <td>0</td>\n",
       "      <td>0</td>\n",
       "      <td>0</td>\n",
       "      <td>0</td>\n",
       "    </tr>\n",
       "    <tr>\n",
       "      <th>2</th>\n",
       "      <td>0</td>\n",
       "      <td>green</td>\n",
       "      <td>2019-01-01 00:12:35</td>\n",
       "      <td>2019-01-01 00:19:09</td>\n",
       "      <td>49</td>\n",
       "      <td>17</td>\n",
       "      <td>1</td>\n",
       "      <td>1.05</td>\n",
       "      <td>6.5</td>\n",
       "      <td>0.5</td>\n",
       "      <td>...</td>\n",
       "      <td>0</td>\n",
       "      <td>0</td>\n",
       "      <td>0</td>\n",
       "      <td>0</td>\n",
       "      <td>0</td>\n",
       "      <td>0</td>\n",
       "      <td>0</td>\n",
       "      <td>0</td>\n",
       "      <td>0</td>\n",
       "      <td>0</td>\n",
       "    </tr>\n",
       "    <tr>\n",
       "      <th>3</th>\n",
       "      <td>0</td>\n",
       "      <td>green</td>\n",
       "      <td>2019-01-01 00:47:55</td>\n",
       "      <td>2019-01-01 01:00:01</td>\n",
       "      <td>255</td>\n",
       "      <td>33</td>\n",
       "      <td>1</td>\n",
       "      <td>3.77</td>\n",
       "      <td>13.5</td>\n",
       "      <td>0.5</td>\n",
       "      <td>...</td>\n",
       "      <td>0</td>\n",
       "      <td>0</td>\n",
       "      <td>0</td>\n",
       "      <td>0</td>\n",
       "      <td>0</td>\n",
       "      <td>0</td>\n",
       "      <td>0</td>\n",
       "      <td>0</td>\n",
       "      <td>0</td>\n",
       "      <td>0</td>\n",
       "    </tr>\n",
       "    <tr>\n",
       "      <th>4</th>\n",
       "      <td>0</td>\n",
       "      <td>green</td>\n",
       "      <td>2019-01-01 00:12:47</td>\n",
       "      <td>2019-01-01 00:30:50</td>\n",
       "      <td>76</td>\n",
       "      <td>225</td>\n",
       "      <td>1</td>\n",
       "      <td>4.10</td>\n",
       "      <td>16.0</td>\n",
       "      <td>0.5</td>\n",
       "      <td>...</td>\n",
       "      <td>0</td>\n",
       "      <td>0</td>\n",
       "      <td>0</td>\n",
       "      <td>0</td>\n",
       "      <td>0</td>\n",
       "      <td>0</td>\n",
       "      <td>0</td>\n",
       "      <td>0</td>\n",
       "      <td>0</td>\n",
       "      <td>0</td>\n",
       "    </tr>\n",
       "  </tbody>\n",
       "</table>\n",
       "<p>5 rows × 600 columns</p>\n",
       "</div>"
      ],
      "text/plain": [
       "   tip car_type     pickup_datetime    dropoff_datetime  pickup_location_id  \\\n",
       "0    0    green 2019-01-01 00:27:11 2019-01-01 00:31:38                  49   \n",
       "1    1    green 2019-01-01 00:46:20 2019-01-01 01:04:54                 189   \n",
       "2    0    green 2019-01-01 00:12:35 2019-01-01 00:19:09                  49   \n",
       "3    0    green 2019-01-01 00:47:55 2019-01-01 01:00:01                 255   \n",
       "4    0    green 2019-01-01 00:12:47 2019-01-01 00:30:50                  76   \n",
       "\n",
       "   dropoff_location_id  passenger_count  trip_distance  fare_amount  extra  \\\n",
       "0                  189                2           0.66          4.5    0.5   \n",
       "1                   17                2           2.68         13.5    0.5   \n",
       "2                   17                1           1.05          6.5    0.5   \n",
       "3                   33                1           3.77         13.5    0.5   \n",
       "4                  225                1           4.10         16.0    0.5   \n",
       "\n",
       "   ...  dropoff_zone_Williamsbridge/Olinville  \\\n",
       "0  ...                                      0   \n",
       "1  ...                                      0   \n",
       "2  ...                                      0   \n",
       "3  ...                                      0   \n",
       "4  ...                                      0   \n",
       "\n",
       "   dropoff_zone_Williamsburg (North Side)  \\\n",
       "0                                       0   \n",
       "1                                       0   \n",
       "2                                       0   \n",
       "3                                       0   \n",
       "4                                       0   \n",
       "\n",
       "   dropoff_zone_Williamsburg (South Side)  dropoff_zone_Windsor Terrace  \\\n",
       "0                                       0                             0   \n",
       "1                                       0                             0   \n",
       "2                                       0                             0   \n",
       "3                                       0                             0   \n",
       "4                                       0                             0   \n",
       "\n",
       "   dropoff_zone_Woodhaven  dropoff_zone_Woodlawn/Wakefield  \\\n",
       "0                       0                                0   \n",
       "1                       0                                0   \n",
       "2                       0                                0   \n",
       "3                       0                                0   \n",
       "4                       0                                0   \n",
       "\n",
       "   dropoff_zone_Woodside  dropoff_zone_World Trade Center  \\\n",
       "0                      0                                0   \n",
       "1                      0                                0   \n",
       "2                      0                                0   \n",
       "3                      0                                0   \n",
       "4                      0                                0   \n",
       "\n",
       "   dropoff_zone_Yorkville East  dropoff_zone_Yorkville West  \n",
       "0                            0                            0  \n",
       "1                            0                            0  \n",
       "2                            0                            0  \n",
       "3                            0                            0  \n",
       "4                            0                            0  \n",
       "\n",
       "[5 rows x 600 columns]"
      ]
     },
     "execution_count": 166,
     "metadata": {},
     "output_type": "execute_result"
    }
   ],
   "source": [
    "dummiesdf.head()"
   ]
  },
  {
   "cell_type": "code",
   "execution_count": 167,
   "metadata": {},
   "outputs": [],
   "source": [
    "dummiesdf.to_csv(r'/users/michaelharnett/desktop/metis/projects/taxi_tip_classification_metis4/data/green_dummies.csv', index=False)"
   ]
  },
  {
   "cell_type": "code",
   "execution_count": null,
   "metadata": {},
   "outputs": [],
   "source": []
  }
 ],
 "metadata": {
  "kernelspec": {
   "display_name": "Python 3",
   "language": "python",
   "name": "python3"
  },
  "language_info": {
   "codemirror_mode": {
    "name": "ipython",
    "version": 3
   },
   "file_extension": ".py",
   "mimetype": "text/x-python",
   "name": "python",
   "nbconvert_exporter": "python",
   "pygments_lexer": "ipython3",
   "version": "3.8.10"
  }
 },
 "nbformat": 4,
 "nbformat_minor": 4
}
